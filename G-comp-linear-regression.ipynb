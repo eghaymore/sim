{
 "cells": [
  {
   "cell_type": "code",
   "execution_count": 64,
   "id": "09a2456d",
   "metadata": {},
   "outputs": [
    {
     "data": {
      "text/html": [
       "<table class=\"dataframe\">\n",
       "<caption>A data.frame: 6 × 9</caption>\n",
       "<thead>\n",
       "\t<tr><th></th><th scope=col>affairs</th><th scope=col>gender</th><th scope=col>age</th><th scope=col>yearsmarried</th><th scope=col>children</th><th scope=col>religiousness</th><th scope=col>education</th><th scope=col>occupation</th><th scope=col>rating</th></tr>\n",
       "\t<tr><th></th><th scope=col>&lt;int&gt;</th><th scope=col>&lt;int&gt;</th><th scope=col>&lt;dbl&gt;</th><th scope=col>&lt;dbl&gt;</th><th scope=col>&lt;int&gt;</th><th scope=col>&lt;int&gt;</th><th scope=col>&lt;int&gt;</th><th scope=col>&lt;int&gt;</th><th scope=col>&lt;int&gt;</th></tr>\n",
       "</thead>\n",
       "<tbody>\n",
       "\t<tr><th scope=row>1</th><td>0</td><td>1</td><td>37</td><td>10.00</td><td>0</td><td>3</td><td>18</td><td>7</td><td>4</td></tr>\n",
       "\t<tr><th scope=row>2</th><td>0</td><td>0</td><td>27</td><td> 4.00</td><td>0</td><td>4</td><td>14</td><td>6</td><td>4</td></tr>\n",
       "\t<tr><th scope=row>3</th><td>0</td><td>0</td><td>32</td><td>15.00</td><td>1</td><td>1</td><td>12</td><td>1</td><td>4</td></tr>\n",
       "\t<tr><th scope=row>4</th><td>0</td><td>1</td><td>57</td><td>15.00</td><td>1</td><td>5</td><td>18</td><td>6</td><td>5</td></tr>\n",
       "\t<tr><th scope=row>5</th><td>0</td><td>1</td><td>22</td><td> 0.75</td><td>0</td><td>2</td><td>17</td><td>6</td><td>3</td></tr>\n",
       "\t<tr><th scope=row>6</th><td>0</td><td>0</td><td>32</td><td> 1.50</td><td>0</td><td>2</td><td>17</td><td>5</td><td>5</td></tr>\n",
       "</tbody>\n",
       "</table>\n"
      ],
      "text/latex": [
       "A data.frame: 6 × 9\n",
       "\\begin{tabular}{r|lllllllll}\n",
       "  & affairs & gender & age & yearsmarried & children & religiousness & education & occupation & rating\\\\\n",
       "  & <int> & <int> & <dbl> & <dbl> & <int> & <int> & <int> & <int> & <int>\\\\\n",
       "\\hline\n",
       "\t1 & 0 & 1 & 37 & 10.00 & 0 & 3 & 18 & 7 & 4\\\\\n",
       "\t2 & 0 & 0 & 27 &  4.00 & 0 & 4 & 14 & 6 & 4\\\\\n",
       "\t3 & 0 & 0 & 32 & 15.00 & 1 & 1 & 12 & 1 & 4\\\\\n",
       "\t4 & 0 & 1 & 57 & 15.00 & 1 & 5 & 18 & 6 & 5\\\\\n",
       "\t5 & 0 & 1 & 22 &  0.75 & 0 & 2 & 17 & 6 & 3\\\\\n",
       "\t6 & 0 & 0 & 32 &  1.50 & 0 & 2 & 17 & 5 & 5\\\\\n",
       "\\end{tabular}\n"
      ],
      "text/markdown": [
       "\n",
       "A data.frame: 6 × 9\n",
       "\n",
       "| <!--/--> | affairs &lt;int&gt; | gender &lt;int&gt; | age &lt;dbl&gt; | yearsmarried &lt;dbl&gt; | children &lt;int&gt; | religiousness &lt;int&gt; | education &lt;int&gt; | occupation &lt;int&gt; | rating &lt;int&gt; |\n",
       "|---|---|---|---|---|---|---|---|---|---|\n",
       "| 1 | 0 | 1 | 37 | 10.00 | 0 | 3 | 18 | 7 | 4 |\n",
       "| 2 | 0 | 0 | 27 |  4.00 | 0 | 4 | 14 | 6 | 4 |\n",
       "| 3 | 0 | 0 | 32 | 15.00 | 1 | 1 | 12 | 1 | 4 |\n",
       "| 4 | 0 | 1 | 57 | 15.00 | 1 | 5 | 18 | 6 | 5 |\n",
       "| 5 | 0 | 1 | 22 |  0.75 | 0 | 2 | 17 | 6 | 3 |\n",
       "| 6 | 0 | 0 | 32 |  1.50 | 0 | 2 | 17 | 5 | 5 |\n",
       "\n"
      ],
      "text/plain": [
       "  affairs gender age yearsmarried children religiousness education occupation\n",
       "1 0       1      37  10.00        0        3             18        7         \n",
       "2 0       0      27   4.00        0        4             14        6         \n",
       "3 0       0      32  15.00        1        1             12        1         \n",
       "4 0       1      57  15.00        1        5             18        6         \n",
       "5 0       1      22   0.75        0        2             17        6         \n",
       "6 0       0      32   1.50        0        2             17        5         \n",
       "  rating\n",
       "1 4     \n",
       "2 4     \n",
       "3 4     \n",
       "4 5     \n",
       "5 3     \n",
       "6 5     "
      ]
     },
     "metadata": {},
     "output_type": "display_data"
    }
   ],
   "source": [
    "dataset = read.csv(\"Affairs.csv\")\n",
    "dataset$gender[dataset$gender ==\"male\"] <- 1 \n",
    "dataset$gender[dataset$gender ==\"female\"] <- 0 \n",
    "dataset$children[dataset$children ==\"yes\"] <- 1 \n",
    "dataset$children[dataset$children ==\"no\"] <- 0 \n",
    "dataset$gender <- as.integer(dataset$gender)\n",
    "dataset$children <- as.integer(dataset$children)\n",
    "dataset <- dataset[,2:10] # remove rownames\n",
    "head(dataset)"
   ]
  },
  {
   "cell_type": "code",
   "execution_count": 55,
   "id": "6252f263",
   "metadata": {},
   "outputs": [
    {
     "data": {
      "text/plain": [
       "\n",
       "Call:\n",
       "lm(formula = dataset$affairs ~ ., data = dataset)\n",
       "\n",
       "Residuals:\n",
       "    Min      1Q  Median      3Q     Max \n",
       "-5.0503 -1.7226 -0.7947  0.2101 12.7036 \n",
       "\n",
       "Coefficients:\n",
       "              Estimate Std. Error t value Pr(>|t|)    \n",
       "(Intercept)    5.87201    1.13750   5.162 3.34e-07 ***\n",
       "gender         0.05409    0.30049   0.180   0.8572    \n",
       "age           -0.05098    0.02262  -2.254   0.0246 *  \n",
       "yearsmarried   0.16947    0.04122   4.111 4.50e-05 ***\n",
       "children      -0.14262    0.35020  -0.407   0.6840    \n",
       "religiousness -0.47761    0.11173  -4.275 2.23e-05 ***\n",
       "education     -0.01375    0.06414  -0.214   0.8303    \n",
       "occupation     0.10492    0.08888   1.180   0.2383    \n",
       "rating        -0.71188    0.12001  -5.932 5.09e-09 ***\n",
       "---\n",
       "Signif. codes:  0 ‘***’ 0.001 ‘**’ 0.01 ‘*’ 0.05 ‘.’ 0.1 ‘ ’ 1\n",
       "\n",
       "Residual standard error: 3.095 on 592 degrees of freedom\n",
       "Multiple R-squared:  0.1317,\tAdjusted R-squared:   0.12 \n",
       "F-statistic: 11.23 on 8 and 592 DF,  p-value: 7.472e-15\n"
      ]
     },
     "metadata": {},
     "output_type": "display_data"
    }
   ],
   "source": [
    "model <- lm(dataset$affairs~., data = dataset) # Fit Linear Model\n",
    "summary(model)"
   ]
  },
  {
   "cell_type": "code",
   "execution_count": 56,
   "id": "7aef21e9",
   "metadata": {},
   "outputs": [],
   "source": [
    "dataset$children <- 1 # Everyone has children!\n",
    "pred_withchildren <- predict(model, newdata = dataset)\n",
    "dataset$children <- 0 # Everyone does not have children!\n",
    "pred_withoutchildren <- predict(model, newdata = dataset)"
   ]
  },
  {
   "cell_type": "code",
   "execution_count": 62,
   "id": "7bbf32a9",
   "metadata": {},
   "outputs": [
    {
     "data": {
      "text/html": [
       "<style>\n",
       ".list-inline {list-style: none; margin:0; padding: 0}\n",
       ".list-inline>li {display: inline-block}\n",
       ".list-inline>li:not(:last-child)::after {content: \"\\00b7\"; padding: 0 .5ex}\n",
       "</style>\n",
       "<ol class=list-inline><li>-0.142624461881104</li><li>0</li></ol>\n"
      ],
      "text/latex": [
       "\\begin{enumerate*}\n",
       "\\item -0.142624461881104\n",
       "\\item 0\n",
       "\\end{enumerate*}\n"
      ],
      "text/markdown": [
       "1. -0.142624461881104\n",
       "2. 0\n",
       "\n",
       "\n"
      ],
      "text/plain": [
       "[1] -0.1426245  0.0000000"
      ]
     },
     "metadata": {},
     "output_type": "display_data"
    }
   ],
   "source": [
    "ATE1 = mean(pred_withchildren) - mean(pred_withoutchildren)\n",
    "ATE2 = mean( pred_withchildren^2 - pred_withchildren^2 )\n",
    "c(ATE1, ATE2)"
   ]
  },
  {
   "cell_type": "code",
   "execution_count": 50,
   "id": "5603084d",
   "metadata": {},
   "outputs": [
    {
     "data": {
      "text/html": [
       "<table class=\"dataframe\">\n",
       "<caption>A data.frame: 6 × 9</caption>\n",
       "<thead>\n",
       "\t<tr><th></th><th scope=col>affairs</th><th scope=col>gender</th><th scope=col>age</th><th scope=col>yearsmarried</th><th scope=col>children</th><th scope=col>religiousness</th><th scope=col>education</th><th scope=col>occupation</th><th scope=col>rating</th></tr>\n",
       "\t<tr><th></th><th scope=col>&lt;int&gt;</th><th scope=col>&lt;int&gt;</th><th scope=col>&lt;dbl[,1]&gt;</th><th scope=col>&lt;dbl[,1]&gt;</th><th scope=col>&lt;dbl&gt;</th><th scope=col>&lt;dbl[,1]&gt;</th><th scope=col>&lt;dbl[,1]&gt;</th><th scope=col>&lt;dbl[,1]&gt;</th><th scope=col>&lt;dbl[,1]&gt;</th></tr>\n",
       "</thead>\n",
       "<tbody>\n",
       "\t<tr><th scope=row>1</th><td>0</td><td>1</td><td> 0.48579987</td><td> 0.3270877</td><td>0</td><td>-0.09976155</td><td> 0.7631921</td><td> 1.5418592</td><td> 0.06183911</td></tr>\n",
       "\t<tr><th scope=row>2</th><td>0</td><td>0</td><td>-0.59076990</td><td>-0.7498597</td><td>0</td><td> 0.75676260</td><td>-0.9017025</td><td> 0.9922404</td><td> 0.06183911</td></tr>\n",
       "\t<tr><th scope=row>3</th><td>0</td><td>0</td><td>-0.05248502</td><td> 1.2245438</td><td>0</td><td>-1.81280985</td><td>-1.7341497</td><td>-1.7558539</td><td> 0.06183911</td></tr>\n",
       "\t<tr><th scope=row>4</th><td>0</td><td>1</td><td> 2.63893940</td><td> 1.2245438</td><td>0</td><td> 1.61328676</td><td> 0.7631921</td><td> 0.9922404</td><td> 0.96830991</td></tr>\n",
       "\t<tr><th scope=row>5</th><td>0</td><td>1</td><td>-1.12905478</td><td>-1.3332061</td><td>0</td><td>-0.95628570</td><td> 0.3469685</td><td> 0.9922404</td><td>-0.84463170</td></tr>\n",
       "\t<tr><th scope=row>6</th><td>0</td><td>0</td><td>-0.05248502</td><td>-1.1985877</td><td>0</td><td>-0.95628570</td><td> 0.3469685</td><td> 0.4426215</td><td> 0.96830991</td></tr>\n",
       "</tbody>\n",
       "</table>\n"
      ],
      "text/latex": [
       "A data.frame: 6 × 9\n",
       "\\begin{tabular}{r|lllllllll}\n",
       "  & affairs & gender & age & yearsmarried & children & religiousness & education & occupation & rating\\\\\n",
       "  & <int> & <int> & <dbl{[},1{]}> & <dbl{[},1{]}> & <dbl> & <dbl{[},1{]}> & <dbl{[},1{]}> & <dbl{[},1{]}> & <dbl{[},1{]}>\\\\\n",
       "\\hline\n",
       "\t1 & 0 & 1 &  0.48579987 &  0.3270877 & 0 & -0.09976155 &  0.7631921 &  1.5418592 &  0.06183911\\\\\n",
       "\t2 & 0 & 0 & -0.59076990 & -0.7498597 & 0 &  0.75676260 & -0.9017025 &  0.9922404 &  0.06183911\\\\\n",
       "\t3 & 0 & 0 & -0.05248502 &  1.2245438 & 0 & -1.81280985 & -1.7341497 & -1.7558539 &  0.06183911\\\\\n",
       "\t4 & 0 & 1 &  2.63893940 &  1.2245438 & 0 &  1.61328676 &  0.7631921 &  0.9922404 &  0.96830991\\\\\n",
       "\t5 & 0 & 1 & -1.12905478 & -1.3332061 & 0 & -0.95628570 &  0.3469685 &  0.9922404 & -0.84463170\\\\\n",
       "\t6 & 0 & 0 & -0.05248502 & -1.1985877 & 0 & -0.95628570 &  0.3469685 &  0.4426215 &  0.96830991\\\\\n",
       "\\end{tabular}\n"
      ],
      "text/markdown": [
       "\n",
       "A data.frame: 6 × 9\n",
       "\n",
       "| <!--/--> | affairs &lt;int&gt; | gender &lt;int&gt; | age &lt;dbl[,1]&gt; | yearsmarried &lt;dbl[,1]&gt; | children &lt;dbl&gt; | religiousness &lt;dbl[,1]&gt; | education &lt;dbl[,1]&gt; | occupation &lt;dbl[,1]&gt; | rating &lt;dbl[,1]&gt; |\n",
       "|---|---|---|---|---|---|---|---|---|---|\n",
       "| 1 | 0 | 1 |  0.48579987 |  0.3270877 | 0 | -0.09976155 |  0.7631921 |  1.5418592 |  0.06183911 |\n",
       "| 2 | 0 | 0 | -0.59076990 | -0.7498597 | 0 |  0.75676260 | -0.9017025 |  0.9922404 |  0.06183911 |\n",
       "| 3 | 0 | 0 | -0.05248502 |  1.2245438 | 0 | -1.81280985 | -1.7341497 | -1.7558539 |  0.06183911 |\n",
       "| 4 | 0 | 1 |  2.63893940 |  1.2245438 | 0 |  1.61328676 |  0.7631921 |  0.9922404 |  0.96830991 |\n",
       "| 5 | 0 | 1 | -1.12905478 | -1.3332061 | 0 | -0.95628570 |  0.3469685 |  0.9922404 | -0.84463170 |\n",
       "| 6 | 0 | 0 | -0.05248502 | -1.1985877 | 0 | -0.95628570 |  0.3469685 |  0.4426215 |  0.96830991 |\n",
       "\n"
      ],
      "text/plain": [
       "  affairs gender age         yearsmarried children religiousness education \n",
       "1 0       1       0.48579987  0.3270877   0        -0.09976155    0.7631921\n",
       "2 0       0      -0.59076990 -0.7498597   0         0.75676260   -0.9017025\n",
       "3 0       0      -0.05248502  1.2245438   0        -1.81280985   -1.7341497\n",
       "4 0       1       2.63893940  1.2245438   0         1.61328676    0.7631921\n",
       "5 0       1      -1.12905478 -1.3332061   0        -0.95628570    0.3469685\n",
       "6 0       0      -0.05248502 -1.1985877   0        -0.95628570    0.3469685\n",
       "  occupation rating     \n",
       "1  1.5418592  0.06183911\n",
       "2  0.9922404  0.06183911\n",
       "3 -1.7558539  0.06183911\n",
       "4  0.9922404  0.96830991\n",
       "5  0.9922404 -0.84463170\n",
       "6  0.4426215  0.96830991"
      ]
     },
     "metadata": {},
     "output_type": "display_data"
    }
   ],
   "source": [
    "# With scaling\n",
    "# Scale data\n",
    "dataset$\"age\" <- scale(dataset$\"age\")\n",
    "dataset$\"yearsmarried\" <- scale(dataset$\"yearsmarried\")\n",
    "dataset$\"religiousness\" <- scale(dataset$\"religiousness\")\n",
    "dataset$\"education\" <- scale(dataset$\"education\")\n",
    "dataset$\"occupation\" <- scale(dataset$\"occupation\")\n",
    "dataset$\"rating\" <- scale(dataset$\"rating\")\n",
    "head(dataset)"
   ]
  },
  {
   "cell_type": "code",
   "execution_count": 51,
   "id": "a878b485",
   "metadata": {},
   "outputs": [
    {
     "data": {
      "text/plain": [
       "\n",
       "Call:\n",
       "lm(formula = dataset$affairs ~ ., data = dataset)\n",
       "\n",
       "Residuals:\n",
       "    Min      1Q  Median      3Q     Max \n",
       "-5.0503 -1.7226 -0.7947  0.2101 12.7036 \n",
       "\n",
       "Coefficients:\n",
       "              Estimate Std. Error t value Pr(>|t|)    \n",
       "(Intercept)    5.87201    1.13750   5.162 3.34e-07 ***\n",
       "gender         0.05409    0.30049   0.180   0.8572    \n",
       "age           -0.05098    0.02262  -2.254   0.0246 *  \n",
       "yearsmarried   0.16947    0.04122   4.111 4.50e-05 ***\n",
       "children      -0.14262    0.35020  -0.407   0.6840    \n",
       "religiousness -0.47761    0.11173  -4.275 2.23e-05 ***\n",
       "education     -0.01375    0.06414  -0.214   0.8303    \n",
       "occupation     0.10492    0.08888   1.180   0.2383    \n",
       "rating        -0.71188    0.12001  -5.932 5.09e-09 ***\n",
       "---\n",
       "Signif. codes:  0 ‘***’ 0.001 ‘**’ 0.01 ‘*’ 0.05 ‘.’ 0.1 ‘ ’ 1\n",
       "\n",
       "Residual standard error: 3.095 on 592 degrees of freedom\n",
       "Multiple R-squared:  0.1317,\tAdjusted R-squared:   0.12 \n",
       "F-statistic: 11.23 on 8 and 592 DF,  p-value: 7.472e-15\n"
      ]
     },
     "metadata": {},
     "output_type": "display_data"
    }
   ],
   "source": [
    "model2 <- lm(dataset$affairs~., data = dataset) # Fit Linear Model\n",
    "summary(model)"
   ]
  },
  {
   "cell_type": "code",
   "execution_count": 65,
   "id": "4d7a1891",
   "metadata": {},
   "outputs": [
    {
     "ename": "ERROR",
     "evalue": "Error: variables ‘age’, ‘yearsmarried’, ‘religiousness’, ‘education’, ‘occupation’, ‘rating’ were specified with different types from the fit\n",
     "output_type": "error",
     "traceback": [
      "Error: variables ‘age’, ‘yearsmarried’, ‘religiousness’, ‘education’, ‘occupation’, ‘rating’ were specified with different types from the fit\nTraceback:\n",
      "1. predict(model2, newdata = dataset)",
      "2. predict.lm(model2, newdata = dataset)",
      "3. .checkMFClasses(cl, m)",
      "4. stop(gettextf(\"variables %s were specified with different types from the fit\", \n .     paste(sQuote(names(old)[wrong]), collapse = \", \")), call. = FALSE, \n .     domain = NA)"
     ]
    }
   ],
   "source": [
    "dataset$children <- 1 # Everyone has children!\n",
    "pred_withchildren <- predict(model2, newdata = dataset)\n",
    "dataset$children <- 0 # Everyone does not have children!\n",
    "pred_withoutchildren <- predict(model2, newdata = dataset)"
   ]
  },
  {
   "cell_type": "code",
   "execution_count": 68,
   "id": "a3350a82",
   "metadata": {},
   "outputs": [
    {
     "data": {
      "text/html": [
       "<style>\n",
       ".list-inline {list-style: none; margin:0; padding: 0}\n",
       ".list-inline>li {display: inline-block}\n",
       ".list-inline>li:not(:last-child)::after {content: \"\\00b7\"; padding: 0 .5ex}\n",
       "</style>\n",
       "<ol class=list-inline><li>-0.142624461881104</li><li>0</li></ol>\n"
      ],
      "text/latex": [
       "\\begin{enumerate*}\n",
       "\\item -0.142624461881104\n",
       "\\item 0\n",
       "\\end{enumerate*}\n"
      ],
      "text/markdown": [
       "1. -0.142624461881104\n",
       "2. 0\n",
       "\n",
       "\n"
      ],
      "text/plain": [
       "[1] -0.1426245  0.0000000"
      ]
     },
     "metadata": {},
     "output_type": "display_data"
    }
   ],
   "source": [
    "ATE1 = mean(pred_withchildren) - mean(pred_withoutchildren)\n",
    "ATE2 = mean( pred_withchildren^2 - pred_withchildren^2 )\n",
    "c(ATE1, ATE2)"
   ]
  }
 ],
 "metadata": {
  "kernelspec": {
   "display_name": "R",
   "language": "R",
   "name": "ir"
  },
  "language_info": {
   "codemirror_mode": "r",
   "file_extension": ".r",
   "mimetype": "text/x-r-source",
   "name": "R",
   "pygments_lexer": "r",
   "version": "4.3.2"
  }
 },
 "nbformat": 4,
 "nbformat_minor": 5
}
