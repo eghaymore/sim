{
 "cells": [
  {
   "cell_type": "code",
   "execution_count": 13,
   "id": "748797a5",
   "metadata": {},
   "outputs": [],
   "source": [
    "w = rnorm(1000)\n",
    "x = 2*w + rnorm(1000,0,.2)\n",
    "y = 3*x + 1*w + x*w + rnorm(1000)"
   ]
  },
  {
   "cell_type": "code",
   "execution_count": 10,
   "id": "771edaf9",
   "metadata": {},
   "outputs": [
    {
     "data": {
      "text/plain": [
       "\n",
       "Call:\n",
       "lm(formula = y ~ x)\n",
       "\n",
       "Coefficients:\n",
       "(Intercept)            x  \n",
       "    0.03715      3.52655  \n"
      ]
     },
     "metadata": {},
     "output_type": "display_data"
    }
   ],
   "source": [
    "lm(y~x)"
   ]
  },
  {
   "cell_type": "code",
   "execution_count": 11,
   "id": "fdec6ccb",
   "metadata": {},
   "outputs": [
    {
     "data": {
      "text/plain": [
       "\n",
       "Call:\n",
       "lm(formula = y ~ x + w)\n",
       "\n",
       "Coefficients:\n",
       "(Intercept)            x            w  \n",
       "    0.02979      2.98327      1.10115  \n"
      ]
     },
     "metadata": {},
     "output_type": "display_data"
    }
   ],
   "source": [
    "lm(y~x+w)"
   ]
  },
  {
   "cell_type": "code",
   "execution_count": 14,
   "id": "9352de6c",
   "metadata": {},
   "outputs": [
    {
     "data": {
      "text/plain": [
       "\n",
       "Call:\n",
       "lm(formula = y ~ x + w + x * w)\n",
       "\n",
       "Coefficients:\n",
       "(Intercept)            x            w          x:w  \n",
       "    0.03904      2.99039      0.99387      0.99203  \n"
      ]
     },
     "metadata": {},
     "output_type": "display_data"
    }
   ],
   "source": [
    "lm(y~x+w + x*w)"
   ]
  }
 ],
 "metadata": {
  "kernelspec": {
   "display_name": "R",
   "language": "R",
   "name": "ir"
  },
  "language_info": {
   "codemirror_mode": "r",
   "file_extension": ".r",
   "mimetype": "text/x-r-source",
   "name": "R",
   "pygments_lexer": "r",
   "version": "4.3.2"
  }
 },
 "nbformat": 4,
 "nbformat_minor": 5
}
